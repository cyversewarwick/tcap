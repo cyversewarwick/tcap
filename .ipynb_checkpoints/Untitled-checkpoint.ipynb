{
 "cells": [
  {
   "cell_type": "code",
   "execution_count": 5,
   "metadata": {
    "collapsed": true
   },
   "outputs": [],
   "source": [
    "import numpy as np"
   ]
  },
  {
   "cell_type": "code",
   "execution_count": 3,
   "metadata": {
    "collapsed": false
   },
   "outputs": [
    {
     "data": {
      "text/plain": [
       "'1.10.1'"
      ]
     },
     "execution_count": 3,
     "metadata": {},
     "output_type": "execute_result"
    }
   ],
   "source": [
    "numpy.__version__"
   ]
  },
  {
   "cell_type": "code",
   "execution_count": 10,
   "metadata": {
    "collapsed": false
   },
   "outputs": [],
   "source": [
    "kek1 = np.random.normal(size=(100,100))"
   ]
  },
  {
   "cell_type": "code",
   "execution_count": 11,
   "metadata": {
    "collapsed": false
   },
   "outputs": [
    {
     "data": {
      "text/plain": [
       "array([[ 1.14182382, -0.22084166, -0.23341984, ...,  0.28923463,\n",
       "        -0.441956  ,  0.44742408],\n",
       "       [ 0.51286824, -0.68243561, -0.17657342, ...,  0.4964649 ,\n",
       "         0.51332145, -0.88067166],\n",
       "       [-0.18394034,  1.04993397, -0.00750562, ...,  0.36660801,\n",
       "         0.3168466 , -0.83866734],\n",
       "       ..., \n",
       "       [-0.01749497,  1.00991166, -0.79460783, ..., -1.04397142,\n",
       "         0.98493422,  1.08621583],\n",
       "       [ 0.5591931 ,  0.40860439, -1.08736397, ..., -0.55515468,\n",
       "         1.23748906, -1.28385881],\n",
       "       [ 0.60461176,  0.65733973,  0.25329209, ..., -0.88755962,\n",
       "         0.84842241,  0.86195479]])"
      ]
     },
     "execution_count": 11,
     "metadata": {},
     "output_type": "execute_result"
    }
   ],
   "source": [
    "kek1"
   ]
  },
  {
   "cell_type": "code",
   "execution_count": 12,
   "metadata": {
    "collapsed": true
   },
   "outputs": [],
   "source": [
    "kek2 = np.random.normal(size=(100,100))"
   ]
  },
  {
   "cell_type": "code",
   "execution_count": 13,
   "metadata": {
    "collapsed": true
   },
   "outputs": [],
   "source": [
    "import time"
   ]
  },
  {
   "cell_type": "code",
   "execution_count": 18,
   "metadata": {
    "collapsed": false
   },
   "outputs": [],
   "source": [
    "dum=np.argmax(kek2,axis=0)"
   ]
  },
  {
   "cell_type": "code",
   "execution_count": 22,
   "metadata": {
    "collapsed": false
   },
   "outputs": [
    {
     "name": "stdout",
     "output_type": "stream",
     "text": [
      "The slowest run took 30.92 times longer than the fastest. This could mean that an intermediate result is being cached \n",
      "100000 loops, best of 3: 4.57 µs per loop\n"
     ]
    }
   ],
   "source": [
    "timeit kek2[np.arange(100),dum]"
   ]
  },
  {
   "cell_type": "code",
   "execution_count": 23,
   "metadata": {
    "collapsed": true
   },
   "outputs": [],
   "source": [
    "import pandas as pd"
   ]
  },
  {
   "cell_type": "code",
   "execution_count": 24,
   "metadata": {
    "collapsed": true
   },
   "outputs": [],
   "source": [
    "data = pd.read_csv('yeast_example_10.txt', header=None, sep='\\t')"
   ]
  },
  {
   "cell_type": "code",
   "execution_count": 25,
   "metadata": {
    "collapsed": true
   },
   "outputs": [],
   "source": [
    "import scipy.stats as sps"
   ]
  },
  {
   "cell_type": "code",
   "execution_count": 26,
   "metadata": {
    "collapsed": true
   },
   "outputs": [],
   "source": [
    "data[:][:] = sps.mstats.zscore(data,axis=1,ddof=1)"
   ]
  },
  {
   "cell_type": "code",
   "execution_count": 27,
   "metadata": {
    "collapsed": true
   },
   "outputs": [],
   "source": [
    "import argparse"
   ]
  },
  {
   "cell_type": "code",
   "execution_count": 28,
   "metadata": {
    "collapsed": true
   },
   "outputs": [],
   "source": [
    "def parse_args():\n",
    "\tparser = argparse.ArgumentParser()\n",
    "\tparser.add_argument('--Input', dest='input', type=argparse.FileType('r'), required=True, help='CSV expression file. Gene names in first column, time points in first row. Single profile (average your replicates).')\n",
    "\tparser.add_argument('--Pool', dest='pool', type=int, default=1, help='Number of processes to use when precomputing the Qian matrix and later on in AP clustering. Default: 1 (no parallelisation)')\n",
    "\tparser.add_argument('--Iterations', dest='iters', type=int, default=1000, help='Number of Affinity Propagation steps to take in the clustering. Default: 1000')\n",
    "\tparser.add_argument('--Converge', dest='conv', type=int, default=1000, help='If the cluster affinity of all genes remains unchanged for this many steps, the clustering is deemed completed ahead of time. Default: 100')\n",
    "\tparser.add_argument('--Lambda', dest='damp', type=float, default=0.9, help='Dampening of the A and R matrix values to prevent numerical oscillations. Default: 0.9')\n",
    "\tparser.add_argument('--SelfSim', dest='s', type=float, default=0, help='Self similarity score override in the Qian similarity matrix to prevent degenerate cases. If 0, then set to median of matrix. Default: 0')\n",
    "\targs = parser.parse_args(['--Input','yeast_example_10.txt'])\n",
    "\treturn args"
   ]
  },
  {
   "cell_type": "code",
   "execution_count": 31,
   "metadata": {
    "collapsed": true
   },
   "outputs": [],
   "source": [
    "import scipy.spatial as spsp"
   ]
  },
  {
   "cell_type": "code",
   "execution_count": 34,
   "metadata": {
    "collapsed": false
   },
   "outputs": [
    {
     "data": {
      "text/plain": [
       "array([[  0.,   1.,   2.,   3.,   4.],\n",
       "       [  1.,   0.,   5.,   6.,   7.],\n",
       "       [  2.,   5.,   0.,   8.,   9.],\n",
       "       [  3.,   6.,   8.,   0.,  10.],\n",
       "       [  4.,   7.,   9.,  10.,   0.]])"
      ]
     },
     "execution_count": 34,
     "metadata": {},
     "output_type": "execute_result"
    }
   ],
   "source": [
    "spsp.distance.squareform(np.arange(10)+1)"
   ]
  },
  {
   "cell_type": "code",
   "execution_count": 35,
   "metadata": {
    "collapsed": true
   },
   "outputs": [],
   "source": [
    "def qian(X,Y):\n",
    "\t'''A function that computes the AP-Qian similarity measure between two expression profiles.'''\n",
    "\tholderplus = np.zeros((len(X)+1,len(X)+1))\n",
    "\tholderminus = np.zeros((len(X)+1,len(X)+1))\n",
    "\tfor i in np.arange(1,len(X)+1):\n",
    "\t\tfor j in np.arange(1,len(X)+1):\n",
    "\t\t\tholderplus[i,j] = np.max([0, holderplus[i-1,j-1] + X[i-1]*Y[j-1]])\n",
    "\t\t\tholderminus[i,j] = np.max([0, holderminus[i-1,j-1] - X[i-1]*Y[j-1]])\n",
    "\treturn np.max([np.max(holderplus),np.max(holderminus)])-len(X)+1"
   ]
  },
  {
   "cell_type": "code",
   "execution_count": 36,
   "metadata": {
    "collapsed": true
   },
   "outputs": [],
   "source": [
    "import time"
   ]
  },
  {
   "cell_type": "code",
   "execution_count": 39,
   "metadata": {
    "collapsed": false
   },
   "outputs": [
    {
     "data": {
      "text/plain": [
       "3.335534000000001"
      ]
     },
     "execution_count": 39,
     "metadata": {},
     "output_type": "execute_result"
    }
   ],
   "source": [
    "t0 = time.clock()\n",
    "for i in np.arange(1000):\n",
    "    qian(np.arange(10),np.arange(10))\n",
    "t1 = time.clock()\n",
    "\n",
    "t1-t0"
   ]
  },
  {
   "cell_type": "code",
   "execution_count": 38,
   "metadata": {
    "collapsed": true
   },
   "outputs": [],
   "source": [
    "def qian(X,Y):\n",
    "\t'''A function that computes the AP-Qian similarity measure between two expression profiles.'''\n",
    "\tholderplus = np.zeros((len(X)+1,len(X)+1))\n",
    "\tholderminus = np.zeros((len(X)+1,len(X)+1))\n",
    "\tfor i in np.arange(1,len(X)+1):\n",
    "\t\tfor j in np.arange(1,len(X)+1):\n",
    "\t\t\tholderplus[i,j] = np.max([0, holderplus[i-1,j-1] + X[i-1]*Y[j-1]])\n",
    "\t\t\tholderminus[i,j] = np.max([0, holderminus[i-1,j-1] - X[i-1]*Y[j-1]])\n",
    "\treturn np.max([np.max(holderplus),np.max(holderminus)])-len(X)+1"
   ]
  },
  {
   "cell_type": "code",
   "execution_count": null,
   "metadata": {
    "collapsed": true
   },
   "outputs": [],
   "source": []
  }
 ],
 "metadata": {
  "kernelspec": {
   "display_name": "Python 3",
   "language": "python",
   "name": "python3"
  },
  "language_info": {
   "codemirror_mode": {
    "name": "ipython",
    "version": 3
   },
   "file_extension": ".py",
   "mimetype": "text/x-python",
   "name": "python",
   "nbconvert_exporter": "python",
   "pygments_lexer": "ipython3",
   "version": "3.4.3"
  }
 },
 "nbformat": 4,
 "nbformat_minor": 0
}
